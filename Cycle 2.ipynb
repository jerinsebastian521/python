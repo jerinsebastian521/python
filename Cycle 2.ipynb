{
 "cells": [
  {
   "cell_type": "code",
   "execution_count": null,
   "metadata": {},
   "outputs": [],
   "source": [
    "#2\r\n",
    "pyear = int(input(\"Please enter present year to check leap year:\"))\r\n",
    "fyears = int(input(\"Please enter final year:\")) \r\n",
    "\r\n",
    "for year in range(pyear,  fyears):\r\n",
    "        if year % 4 == 0:       \r\n",
    "                print(f\"{year} is a leap year\") \r\n",
    "        else:\r\n",
    "                print (f\"{year} is not a leap year\")"
   ]
  },
  {
   "cell_type": "code",
   "execution_count": null,
   "metadata": {},
   "outputs": [],
   "source": [
    "#3a\r\n",
    "list = [11, -21, 0, 45, 66, -93] \r\n",
    "for num in list:\r\n",
    "   if num >= 0: \r\n",
    "       print(num, end = \" \")"
   ]
  },
  {
   "cell_type": "code",
   "execution_count": null,
   "metadata": {},
   "outputs": [],
   "source": [
    "#3b\r\n",
    "num = [1, 2, 3, 4, 5]\r\n",
    "square = [num ** 2 for num in num]\r\n",
    "print(square)"
   ]
  },
  {
   "cell_type": "code",
   "execution_count": null,
   "metadata": {},
   "outputs": [],
   "source": [
    "#3c\r\n",
    "list=['a','e','i','o','u','A','E','I','O','U']\r\n",
    "word = input('Enter your word: ')\r\n",
    "for vowel in list:\r\n",
    "    if vowel in word:\r\n",
    "        print(vowel)"
   ]
  },
  {
   "cell_type": "code",
   "execution_count": null,
   "metadata": {},
   "outputs": [],
   "source": [
    "#3d\r\n",
    "x=input('enter a word:')\r\n",
    "for item in x:\r\n",
    "  print(ord(item))"
   ]
  },
  {
   "cell_type": "code",
   "execution_count": null,
   "metadata": {},
   "outputs": [],
   "source": [
    "#7a\r\n",
    "list1 =[]\r\n",
    "list2 =[]\r\n",
    "n=int(input(\"Enter limit in first list:\"))\r\n",
    "for i in range(0, n): \r\n",
    "    ele = input('enter digits:')\r\n",
    "    list1.append(ele) \r\n",
    "print('entered digits:',list1) \r\n",
    "n1=int(input(\"Enter limit in second list:\"))\r\n",
    "for i in range(0, n1): \r\n",
    "    ele = input('enter digits:')\r\n",
    "    list2.append(ele) \r\n",
    "print('entered digits:',list2)  \r\n",
    "\r\n",
    "l = [len(list1), len(list2)]\r\n",
    "if max(l) == min(l):\r\n",
    "  print('length same')\r\n",
    "else:\r\n",
    "  print('not same')"
   ]
  },
  {
   "cell_type": "code",
   "execution_count": null,
   "metadata": {},
   "outputs": [],
   "source": [
    "#7b\r\n",
    "\r\n",
    "list1 =[]\r\n",
    "list2 =[]\r\n",
    "n=int(input(\"Enter limit in first list:\"))\r\n",
    "for i in range(0, n): \r\n",
    "    ele = int(input('enter digits:'))\r\n",
    "    list1.append(ele) \r\n",
    "print('entered digits:',list1) \r\n",
    "n1=int(input(\"Enter limit in second list:\"))\r\n",
    "for i in range(0, n1): \r\n",
    "    ele = int(input('enter digits:'))\r\n",
    "    list2.append(ele) \r\n",
    "print('entered digits:',list2)  \r\n",
    "\r\n",
    "a=sum(list1)\r\n",
    "b=sum(list2)\r\n",
    "if a == b:\r\n",
    "  print(' same value')\r\n",
    "else:\r\n",
    "  print('not same')"
   ]
  },
  {
   "cell_type": "code",
   "execution_count": null,
   "metadata": {},
   "outputs": [],
   "source": [
    "#7c\r\n",
    "list1 =[]\r\n",
    "list2 =[]\r\n",
    "n=int(input(\"Enter limit in first list:\"))\r\n",
    "for i in range(0, n): \r\n",
    "    ele = int(input('enter digits:'))\r\n",
    "    list1.append(ele) \r\n",
    "print('entered digits:',list1) \r\n",
    "n1=int(input(\"Enter limit in second list:\"))\r\n",
    "for i in range(0, n1): \r\n",
    "    ele = int(input('enter digits:'))\r\n",
    "    list2.append(ele) \r\n",
    "print('entered digits:',list2)  \r\n",
    "list(set(list1).intersection(list2))"
   ]
  },
  {
   "cell_type": "code",
   "execution_count": null,
   "metadata": {},
   "outputs": [],
   "source": [
    "#9\r\n",
    "n=input(\"Enter a string : \")\r\n",
    "print(\"new string : \")\r\n",
    "print(n[-1:] + n[1:-1] + n[0])"
   ]
  },
  {
   "cell_type": "code",
   "execution_count": null,
   "metadata": {},
   "outputs": [],
   "source": [
    "#10\r\n",
    "r=float(input('enter radius:'))\r\n",
    "print('area of circle :',3.14*r*r)"
   ]
  },
  {
   "cell_type": "code",
   "execution_count": null,
   "metadata": {},
   "outputs": [],
   "source": [
    "#11\r\n",
    "num1 = float(input(\"Enter first number:\"))\r\n",
    "num2 = float(input(\"Enter second number:\"))\r\n",
    "num3 = float(input(\"Enter third number:\")) \r\n",
    "\r\n",
    "if (num1 > num2) and (num1 > num3):\r\n",
    "   largest = num1\r\n",
    "elif (num2 > num1) and (num2 > num3):\r\n",
    "   largest = num2\r\n",
    "else:\r\n",
    "   largest = num3\r\n",
    " \r\n",
    "print(\"The largest number is\",largest)"
   ]
  },
  {
   "cell_type": "code",
   "execution_count": null,
   "metadata": {},
   "outputs": [],
   "source": [
    "#12\r\n",
    "filename = input(\"Input the filename: \")\r\n",
    "ext = filename.split(\".\")\r\n",
    "print (\"The extension of the file is : \" + (ext[-1]))"
   ]
  },
  {
   "cell_type": "code",
   "execution_count": null,
   "metadata": {},
   "outputs": [],
   "source": [
    "#13\r\n",
    "lst = [] \r\n",
    "n = int(input(\"Enter number of colors : \"))\r\n",
    "for i in range(0, n): \r\n",
    "    ele = input('enter color:')\r\n",
    "    lst.append(ele) \r\n",
    "print('entered colors:',lst) \r\n",
    "s=[lst[0],lst[-1]]\r\n",
    "print('first and last color:',s)"
   ]
  },
  {
   "cell_type": "code",
   "execution_count": null,
   "metadata": {},
   "outputs": [],
   "source": [
    "#14\r\n",
    "n=int(input('enter n:'))\r\n",
    "print(n,'+',(n*10)+n,'+',(n*100)+(n*10)+n,'=' ,n+(n*10)+n +(n*100)+(n*10)+n)"
   ]
  },
  {
   "cell_type": "code",
   "execution_count": null,
   "metadata": {},
   "outputs": [],
   "source": [
    "#17\r\n",
    "fruits = {\"apple\": 5, \"Apple\": 5,\"orange\": 5,\"ltrawberry\": 3,\"blueberry\": 1}\r\n",
    "popular_fruits = sorted(fruits,reverse=True)\r\n",
    "print(popular_fruits)"
   ]
  },
  {
   "cell_type": "code",
   "execution_count": null,
   "metadata": {},
   "outputs": [],
   "source": [
    "#18\r\n",
    "dict1 = {'Ritika': 5,'Sam': 7, 'John' : 10}\r\n",
    "dict2 = {'Aadi': 8,'Sam': 20, 'Mark' : 11 }\r\n",
    "dict1.update(dict2)\r\n",
    "print('merged dictionary',dict1)"
   ]
  },
  {
   "cell_type": "code",
   "execution_count": null,
   "metadata": {},
   "outputs": [],
   "source": [
    "#19\r\n",
    "num1 = int(input(\"Enter 1st number: \"))\r\n",
    "num2 = int(input(\"Enter 2nd number: \"))\r\n",
    "i = 1\r\n",
    "while(i <= num1 and i <= num2):\r\n",
    "  if(num1 % i == 0 and num2 % i == 0):\r\n",
    "    gcd = i\r\n",
    "  i = i + 1\r\n",
    "print(\"GCD is\", gcd)"
   ]
  },
  {
   "cell_type": "code",
   "execution_count": null,
   "metadata": {},
   "outputs": [],
   "source": [
    "#20\r\n",
    "list = [1, 2, 3, 4, 5, 6, 7]\r\n",
    "print(\"list : \" , list)\r\n",
    "for i  in list:\r\n",
    "\tif(i%2 == 0):\r\n",
    "\t    list.remove(i)\r\n",
    "print(\"after removing even numbers:\",list)"
   ]
  }
 ],
 "metadata": {
  "colab": {
   "name": "cycle2",
   "provenance": [],
   "collapsed_sections": [],
   "authorship_tag": "ABX9TyPqjT2PNtTDwVunRfMXRvzP"
  },
  "kernelspec": {
   "display_name": "Python 3",
   "name": "python3"
  }
 },
 "nbformat": 4,
 "nbformat_minor": 0
}