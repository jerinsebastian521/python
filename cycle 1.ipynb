{
 "cells": [
  {
   "cell_type": "code",
   "execution_count": null,
   "metadata": {},
   "outputs": [],
   "source": [
    "print(\"hello world\")"
   ]
  },
  {
   "cell_type": "code",
   "execution_count": null,
   "metadata": {},
   "outputs": [],
   "source": [
    "a= int(input(\"enter first number\"))\r\n",
    "b=int(input(\"enter second number\"))\r\n",
    "if(a>b):\r\n",
    "  min1=a\r\n",
    "else:\r\n",
    "  min1=b\r\n",
    "  while(1):\r\n",
    "    if(min1%a==0 and min1%b==0):\r\n",
    "      print(\"lcm is \",min1)\r\n",
    "      break\r\n",
    "    min1=min1+1"
   ]
  },
  {
   "cell_type": "code",
   "execution_count": null,
   "metadata": {},
   "outputs": [],
   "source": [
    "n=int(input(\"enter number\"))\r\n",
    "c=0\r\n",
    "while (n>0):\r\n",
    "  n//=10\r\n",
    "  c +=1\r\n",
    "  \r\n",
    "print(\"no of digits:\",c)"
   ]
  },
  {
   "cell_type": "code",
   "execution_count": null,
   "metadata": {},
   "outputs": [],
   "source": [
    "n=int(input(\"enter number\"))\r\n",
    "if(n>0):\r\n",
    "  print(\"positive n/umber\")\r\n",
    "elif n==0:\r\n",
    "  print(\"zero\")\r\n",
    "else:\r\n",
    "  print(\"negative number\")"
   ]
  },
  {
   "cell_type": "code",
   "execution_count": null,
   "metadata": {},
   "outputs": [],
   "source": [
    "n=int(input(\"enter number\"))\r\n",
    "if n<0:\r\n",
    "  print(\"enter positive number\")\r\n",
    "else:\r\n",
    "  sum=0\r\n",
    "  while(n>0):\r\n",
    "   sum +=n\r\n",
    "   n-=1\r\n",
    "  print(\"sum is\",sum)"
   ]
  },
  {
   "cell_type": "code",
   "execution_count": null,
   "metadata": {},
   "outputs": [],
   "source": [
    "n=int(input(\"enter a number\"))\r\n",
    "f=1\r\n",
    "if n<0:\r\n",
    "  printf(\"no factorial\")\r\n",
    "elif n==0:\r\n",
    "  printf(\"factorial of 0 is 1\")\r\n",
    "else:\r\n",
    "  for i in range (1,n+1):\r\n",
    "     f=f*i\r\n",
    "  print(\"factorial of \",n ,\"is\",f)"
   ]
  },
  {
   "cell_type": "code",
   "execution_count": null,
   "metadata": {},
   "outputs": [],
   "source": [
    "n=int(input(\"enter number\"))\r\n",
    "\r\n",
    "for i in range(1,11):\r\n",
    " print(n,'x',i,'=' ,n*i)"
   ]
  },
  {
   "cell_type": "code",
   "execution_count": null,
   "metadata": {},
   "outputs": [],
   "source": [
    "n=int(input(\"how many terms\"))\r\n",
    "n1,n2 = 0,1\r\n",
    "c=0\r\n",
    "if n<0:\r\n",
    "  print(\"enter a positive number\")\r\n",
    "elif n==1:\r\n",
    "  print(\"fibanocci series upto\",n)\r\n",
    "  print(n1)\r\n",
    "else:\r\n",
    "  print(\"fibanocci sequence\")\r\n",
    "  while c<n:\r\n",
    "    print(n1)\r\n",
    "    n3= n1+n2\r\n",
    "    n1 = n2\r\n",
    "    n2 = n3\r\n",
    "    c+=1"
   ]
  },
  {
   "cell_type": "code",
   "execution_count": null,
   "metadata": {},
   "outputs": [],
   "source": [
    "a=input(\"enter a number\")\r\n",
    "print(a)"
   ]
  },
  {
   "cell_type": "code",
   "execution_count": null,
   "metadata": {},
   "outputs": [],
   "source": [
    "a= input(\"enter first num\")\r\n",
    "b= input(\"enter second num\")\r\n",
    "c=int(a)+int(b);\r\n",
    "print(\"sum\",c)"
   ]
  },
  {
   "cell_type": "code",
   "execution_count": null,
   "metadata": {},
   "outputs": [],
   "source": [
    "a=input(\"enter first num\")\r\n",
    "b=input(\"enter second num\")\r\n",
    "c=float(a)*float(b)\r\n",
    "print(\"multiplication\",c)"
   ]
  },
  {
   "cell_type": "code",
   "execution_count": null,
   "metadata": {},
   "outputs": [],
   "source": [
    "a=int(input(\"enter first num\"))\r\n",
    "b=int(input(\"enter second number\"))\r\n",
    "quotient=a//b\r\n",
    "rem=a%b;\r\n",
    "print(\"quotient\",quotient)\r\n",
    "print(\"reminder\",rem)"
   ]
  },
  {
   "cell_type": "code",
   "execution_count": null,
   "metadata": {},
   "outputs": [],
   "source": [
    "x=input(\"enter first num\")\r\n",
    "y=input(\"enter second num\")\r\n",
    "print(\"before swapping x=\", x  +\"y=\", y)\r\n",
    "t=x\r\n",
    "x=y\r\n",
    "y=t\r\n",
    "print(\"after swapping x=\", x  +\"y=\", y)"
   ]
  },
  {
   "cell_type": "code",
   "execution_count": null,
   "metadata": {},
   "outputs": [],
   "source": [
    "a=int(input(\"enter a number to check odd or even\"))\r\n",
    "if(a%2==0):\r\n",
    "  print(\"even number\")\r\n",
    "else:\r\n",
    "  print(\"odd number\")"
   ]
  },
  {
   "cell_type": "code",
   "execution_count": null,
   "metadata": {},
   "outputs": [],
   "source": [
    "ch=input(\"enter a character\")\r\n",
    "if(ch == 'A' or ch == 'a' or ch == 'E' or ch == 'e' or ch == 'I' or ch == 'i' or ch == 'O' or ch == 'o' or ch == 'U' or ch == 'u'):\r\n",
    "  print(ch,\"is a vowel\")\r\n",
    "else:\r\n",
    "  print(ch,\"is a consonent\")"
   ]
  },
  {
   "cell_type": "code",
   "execution_count": null,
   "metadata": {},
   "outputs": [],
   "source": [
    "num1=int(input(\"enter first num\"))\r\n",
    "num2=int(input(\"enter second num\"))\r\n",
    "num3=int(input(\"enter third num\"))\r\n",
    "if(num1>=num2 and num1>=num3):\r\n",
    "  print(num1,\"is largest\")\r\n",
    "elif(num2>=num1 and num2>=num3):\r\n",
    "  print(num2,\"is larget\")\r\n",
    "else:\r\n",
    "  print(num3,\"is largest\")"
   ]
  },
  {
   "cell_type": "code",
   "execution_count": null,
   "metadata": {},
   "outputs": [],
   "source": [
    "y=int(input(\"enter year\"))\r\n",
    "if(y%4==0 and y%100!=0 or y%100==0) :\r\n",
    "  print(y,\"is a leap year\")\r\n",
    "else:\r\n",
    "  print(y,\"not leap year\")"
   ]
  },
  {
   "cell_type": "code",
   "execution_count": null,
   "metadata": {},
   "outputs": [],
   "source": [
    "n=int(input(\"enter number\"))\r\n",
    "rev=0\r\n",
    "while(n>0):\r\n",
    "  dig=n%10\r\n",
    "  rev=rev*10+dig\r\n",
    "  n=n//10\r\n",
    "print(\"reverse num=\",rev)"
   ]
  },
  {
   "cell_type": "code",
   "execution_count": null,
   "metadata": {},
   "outputs": [],
   "source": [
    "a=int(input(\"enter base number\"))\r\n",
    "b=int(input(\"enter exponent number\"))\r\n",
    "p=a**b\r\n",
    "print(\"power\",p)"
   ]
  },
  {
   "cell_type": "code",
   "execution_count": null,
   "metadata": {},
   "outputs": [],
   "source": [
    "n=int(input(\"enter number\"))\r\n",
    "temp=n\r\n",
    "rev=0\r\n",
    "while(n>0):\r\n",
    "  dig=n%10\r\n",
    "  rev=rev*10+dig\r\n",
    "  n=n//10\r\n",
    "if(temp==rev):\r\n",
    "  print(\"pallindrome\")\r\n",
    "else:\r\n",
    "  print(\"not pallindrome\")"
   ]
  },
  {
   "cell_type": "code",
   "execution_count": null,
   "metadata": {},
   "outputs": [],
   "source": [
    "a=5\r\n",
    "print(\"type of a=\",type(a))\r\n",
    "b=5.5\r\n",
    "print(\"type of b=\",type(b))\r\n",
    "c=2+4j\r\n",
    "print(\"type of c=\",type(c))"
   ]
  }
 ],
 "metadata": {
  "colab": {
   "name": "cycle 1.ipynb",
   "provenance": [],
   "collapsed_sections": [],
   "authorship_tag": "ABX9TyMgKTqXcXwTpYa54r7ZtfB5"
  },
  "kernelspec": {
   "name": "python3",
   "display_name": "Python 3"
  }
 },
 "nbformat": 4,
 "nbformat_minor": 0
}